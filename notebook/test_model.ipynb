{
 "cells": [
  {
   "cell_type": "code",
   "execution_count": 9,
   "metadata": {},
   "outputs": [],
   "source": [
    "import torch\n",
    "import numpy as np\n",
    "from torchvision.transforms import transforms as T\n",
    "import torch.nn as nn\n",
    "import sys\n",
    "import matplotlib.pyplot as plt\n",
    "from torch.utils.data import DataLoader\n",
    "from torch.utils.data.sampler import SubsetRandomSampler\n",
    "sys.path.append('..')\n",
    "sys.path.append('../dataset_loader')\n",
    "sys.path.append('../model')\n",
    "from config import *\n",
    "from mpl_toolkits.axes_grid1 import make_axes_locatable\n",
    "\n",
    "from dataset_loader.image_loader import *\n",
    "from model.resunet import *\n",
    "from utils import *"
   ]
  },
  {
   "cell_type": "code",
   "execution_count": 11,
   "metadata": {},
   "outputs": [
    {
     "name": "stdout",
     "output_type": "stream",
     "text": [
      "0 c-resunet_15.h5\n",
      "1 c-resunet_2.h5\n",
      "2 c-resunet_g_test_rs_10\n",
      "3 c-resunet_7.h5\n",
      "4 c-resunet_21.h5\n",
      "5 c-resunet_4.h5\n",
      "6 c-resunet_13.h5\n",
      "7 c-resunet_12\n",
      "8 c-resunet_21\n",
      "9 c-resunet_3.h5\n",
      "10 c-resunet_0\n",
      "11 c-resunet_9.h5\n",
      "12 c-resunet_5\n",
      "13 c-resunet_1.h5\n",
      "14 c-resunet_19.h5\n"
     ]
    }
   ],
   "source": [
    "cuda = torch.cuda.is_available()\n",
    "device = torch.device(\"cuda\" if cuda else \"cpu\")\n",
    "\n",
    "for ix,m in enumerate(os.listdir('../model_results/supervised/green/')):\n",
    "    print(ix,m)"
   ]
  },
  {
   "cell_type": "code",
   "execution_count": 12,
   "metadata": {},
   "outputs": [
    {
     "name": "stdout",
     "output_type": "stream",
     "text": [
      "c-resunet_13.h5\n"
     ]
    }
   ],
   "source": [
    "model_name = os.listdir('../model_results/supervised/green/')[6]\n",
    "print(model_name)"
   ]
  },
  {
   "cell_type": "code",
   "execution_count": 13,
   "metadata": {},
   "outputs": [
    {
     "name": "stdout",
     "output_type": "stream",
     "text": [
      "including c0 in the network\n",
      "Initializing conv2d weights with Kaiming He normal\n"
     ]
    },
    {
     "data": {
      "text/plain": [
       "<All keys matched successfully>"
      ]
     },
     "execution_count": 13,
     "metadata": {},
     "output_type": "execute_result"
    }
   ],
   "source": [
    "c0=True\n",
    "\n",
    "model = nn.DataParallel(c_resunet(arch='c-ResUnet', n_features_start = 16, n_out = 1,c0=c0,\n",
    "        pretrained = False, progress= True)).to(device)\n",
    "model.load_state_dict(torch.load('../model_results/supervised/green/{}'.format(model_name)))"
   ]
  },
  {
   "cell_type": "code",
   "execution_count": 4,
   "metadata": {},
   "outputs": [],
   "source": [
    "test = True\n",
    "dataset = 'green'\n",
    "\n",
    "str(root).replace('notebook', '') + '/data/test/original_images/'\n",
    "\n",
    "transform = T.Compose([T.Lambda(lambda x: x * 1. / 255),\n",
    "                       T.ToTensor(),\n",
    "                       #T.Resize((1040,1400))\n",
    "                      #T.Lambda(lambda x: x.permute(2, 0, 1))\n",
    "                       ])\n",
    "\n",
    "cells_images = CellsLoader(Path(str(root).replace('notebook', '') + '/data/test/original_images/'),\n",
    "                            Path(str(root).replace('notebook', '') + '/data/test/original_masks/'), \n",
    "                               val_split=0.3, transform = transform, test = test)"
   ]
  },
  {
   "cell_type": "code",
   "execution_count": null,
   "metadata": {},
   "outputs": [],
   "source": [
    "#cells_images = CellsLoader(root + \"/DATASET/train_val/crop_augmented/images/\",\n",
    "#                           root + \"/DATASET/train_val/crop_augmented/masks/\", \n",
    "#                           val_split=0.3, transform = transform, ae = ae, test = False)\n",
    "\n",
    "batch_size = 8\n",
    "test_loader = DataLoader(cells_images, batch_size=batch_size)"
   ]
  },
  {
   "cell_type": "code",
   "execution_count": null,
   "metadata": {},
   "outputs": [],
   "source": [
    "x, y = next(iter(test_loader))"
   ]
  },
  {
   "cell_type": "code",
   "execution_count": null,
   "metadata": {},
   "outputs": [],
   "source": [
    "x.size()"
   ]
  },
  {
   "cell_type": "code",
   "execution_count": null,
   "metadata": {},
   "outputs": [],
   "source": [
    "y.size()"
   ]
  },
  {
   "cell_type": "code",
   "execution_count": null,
   "metadata": {},
   "outputs": [],
   "source": [
    "model.eval()\n",
    "with torch.no_grad():\n",
    "    heatmap = model(x.to(device))\n",
    "    #heatmap = 1 - heatmap"
   ]
  },
  {
   "cell_type": "code",
   "execution_count": null,
   "metadata": {},
   "outputs": [],
   "source": [
    "#torch.save(heatmap, 'yellowed_red.pt')"
   ]
  },
  {
   "cell_type": "code",
   "execution_count": null,
   "metadata": {},
   "outputs": [],
   "source": [
    "save = True"
   ]
  },
  {
   "cell_type": "code",
   "execution_count": 36,
   "metadata": {},
   "outputs": [],
   "source": [
    "for i in range(heatmap.size()[0]):\n",
    "    \n",
    "#     print(test_ids[i+start])\n",
    "    original = x[i].permute(1,2,0)\n",
    "    target = y[i].permute(1,2,0)\n",
    "    heat_map = heatmap[i]\n",
    "\n",
    "    fig, axes = plt.subplots(1, 3, figsize=(18, 6))\n",
    "       \n",
    "    im = axes[0].imshow(original)\n",
    "    axes[0].set_title('Original')\n",
    "\n",
    "\n",
    "    if heat_map.shape[0]==3:\n",
    "        im = axes[1].imshow(original)\n",
    "        axes[1].set_title('Target')\n",
    "    \n",
    "        im = axes[2].imshow(heat_map.cpu().permute(1,2,0))\n",
    "        axes[2].set_title('reconstructed')\n",
    "        \n",
    "    else:\n",
    "        im = axes[1].imshow(np.squeeze(target), cmap='gray')\n",
    "        axes[1].set_title('Target')\n",
    "    \n",
    "\n",
    "        im = axes[2].pcolormesh(np.flipud(heat_map.cpu().detach().squeeze()), cmap='jet')\n",
    "        divider = make_axes_locatable(axes[2])\n",
    "        cax = divider.append_axes(\"right\", size=\"5%\", pad=0.05)\n",
    "        plt.colorbar(im, cax=cax)\n",
    "        axes[2].set_title('Predicted heatmap') \n",
    "    \n",
    "    if save:\n",
    "        if os.path.exists('../figure_results/{}/{}'.format(model_name.split('.')[0], dataset)):\n",
    "            print('path alredy exixts')\n",
    "        else:\n",
    "            os.makedirs('../figure_results/{}/{}'.format(model_name.split('.')[0], dataset))\n",
    "        \n",
    "        plt.savefig('../figure_results/{}/{}/{}_{}.png'.format(model_name.split('.')[0], \\\n",
    "                                                               dataset, model_name.split('.')[0],i))"
   ]
  },
  {
   "cell_type": "code",
   "execution_count": null,
   "metadata": {},
   "outputs": [],
   "source": []
  },
  {
   "cell_type": "code",
   "execution_count": null,
   "metadata": {},
   "outputs": [],
   "source": []
  },
  {
   "cell_type": "code",
   "execution_count": null,
   "metadata": {},
   "outputs": [],
   "source": []
  },
  {
   "cell_type": "code",
   "execution_count": null,
   "metadata": {},
   "outputs": [],
   "source": []
  },
  {
   "cell_type": "code",
   "execution_count": null,
   "metadata": {},
   "outputs": [],
   "source": []
  },
  {
   "cell_type": "code",
   "execution_count": null,
   "metadata": {},
   "outputs": [],
   "source": []
  },
  {
   "cell_type": "code",
   "execution_count": null,
   "metadata": {},
   "outputs": [],
   "source": []
  },
  {
   "cell_type": "code",
   "execution_count": null,
   "metadata": {},
   "outputs": [],
   "source": []
  }
 ],
 "metadata": {
  "kernelspec": {
   "display_name": "Python 3 (ipykernel)",
   "language": "python",
   "name": "python3"
  },
  "language_info": {
   "codemirror_mode": {
    "name": "ipython",
    "version": 3
   },
   "file_extension": ".py",
   "mimetype": "text/x-python",
   "name": "python",
   "nbconvert_exporter": "python",
   "pygments_lexer": "ipython3",
   "version": "3.7.13"
  }
 },
 "nbformat": 4,
 "nbformat_minor": 4
}
